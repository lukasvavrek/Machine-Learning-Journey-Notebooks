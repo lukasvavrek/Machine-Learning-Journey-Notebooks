{
 "cells": [
  {
   "cell_type": "markdown",
   "metadata": {},
   "source": [
    "# Article spinner"
   ]
  },
  {
   "cell_type": "code",
   "execution_count": 1,
   "metadata": {
    "ExecuteTime": {
     "end_time": "2019-03-09T10:12:37.168505Z",
     "start_time": "2019-03-09T10:12:37.001302Z"
    }
   },
   "outputs": [],
   "source": [
    "from bs4 import BeautifulSoup\n",
    "import numpy as np"
   ]
  },
  {
   "cell_type": "markdown",
   "metadata": {},
   "source": [
    "We'll use positive electonics reviews as our dataset. Reviews will be parsed into trigrams, computing the probability of the middle word given the previous and the next word in the review."
   ]
  },
  {
   "cell_type": "code",
   "execution_count": 2,
   "metadata": {
    "ExecuteTime": {
     "end_time": "2019-03-09T10:12:37.794138Z",
     "start_time": "2019-03-09T10:12:37.171783Z"
    }
   },
   "outputs": [
    {
     "data": {
      "text/plain": [
       "1000"
      ]
     },
     "execution_count": 2,
     "metadata": {},
     "output_type": "execute_result"
    }
   ],
   "source": [
    "reviews = BeautifulSoup(open('../data/sorted_data_acl/electronics/positive.review').read())\n",
    "reviews = [tag.text for tag in reviews.findAll('review_text')]\n",
    "len(reviews)"
   ]
  },
  {
   "cell_type": "markdown",
   "metadata": {},
   "source": [
    "Very lightweight sentence cleanup that will remove unnecessary characters that are not helpful for our model."
   ]
  },
  {
   "cell_type": "code",
   "execution_count": 3,
   "metadata": {
    "ExecuteTime": {
     "end_time": "2019-03-09T10:12:37.831795Z",
     "start_time": "2019-03-09T10:12:37.796674Z"
    }
   },
   "outputs": [],
   "source": [
    "import re\n",
    "\n",
    "def clean_text(t):\n",
    "    words = re.split('; |, |\\*|\\n|/|_', t)\n",
    "    words = [word.strip(',.:-_').lower() for word in words]\n",
    "    words = [word for word in words if len(word) > 0]\n",
    "    return ' '.join(words)\n",
    "\n",
    "reviews = [clean_text(review) for review in reviews]\n",
    "reviews = [review.split(' ') for review in reviews]"
   ]
  },
  {
   "cell_type": "markdown",
   "metadata": {},
   "source": [
    "At first, we count occurences of words given the previous and next word in the sentence. Then, we re-compute those counts into the conditional probabilities."
   ]
  },
  {
   "cell_type": "code",
   "execution_count": 4,
   "metadata": {
    "ExecuteTime": {
     "end_time": "2019-03-09T10:12:37.846669Z",
     "start_time": "2019-03-09T10:12:37.836416Z"
    }
   },
   "outputs": [],
   "source": [
    "def get_count_trigrams(reviews):\n",
    "    trigrams = {}\n",
    "    for review in reviews:\n",
    "        for idx in range(1, len(review) - 1):\n",
    "            key = (review[idx-1], review[idx+1])\n",
    "            if key not in trigrams:\n",
    "                trigrams[key] = {}\n",
    "\n",
    "            word = review[idx]\n",
    "            if review[idx] not in trigrams[key]:\n",
    "                trigrams[key][word] = 1\n",
    "            else:\n",
    "                trigrams[key][word] += 1\n",
    "    return trigrams\n",
    "\n",
    "def get_probability_trigrams(reviews):\n",
    "    trigrams = get_count_trigrams(reviews)\n",
    "    \n",
    "    for key in trigrams:\n",
    "        s = sum(trigrams[key].values())\n",
    "        for words in trigrams[key]:\n",
    "            trigrams[key][words] /= s\n",
    "    return trigrams"
   ]
  },
  {
   "cell_type": "markdown",
   "metadata": {},
   "source": [
    "Pick word method will return a word with a respect to the given probabilities."
   ]
  },
  {
   "cell_type": "code",
   "execution_count": 5,
   "metadata": {
    "ExecuteTime": {
     "end_time": "2019-03-09T10:12:38.040500Z",
     "start_time": "2019-03-09T10:12:37.852159Z"
    },
    "scrolled": true
   },
   "outputs": [
    {
     "data": {
      "text/plain": [
       "dict_values([0.12269938650306748, 0.3067484662576687, 0.006134969325153374, 0.012269938650306749, 0.018404907975460124, 0.006134969325153374, 0.05521472392638037, 0.006134969325153374, 0.05521472392638037, 0.03680981595092025, 0.012269938650306749, 0.006134969325153374, 0.006134969325153374, 0.024539877300613498, 0.006134969325153374, 0.024539877300613498, 0.006134969325153374, 0.012269938650306749, 0.05521472392638037, 0.018404907975460124, 0.024539877300613498, 0.006134969325153374, 0.024539877300613498, 0.006134969325153374, 0.012269938650306749, 0.006134969325153374, 0.012269938650306749, 0.006134969325153374, 0.012269938650306749, 0.006134969325153374, 0.006134969325153374, 0.006134969325153374, 0.006134969325153374, 0.006134969325153374, 0.006134969325153374, 0.006134969325153374, 0.006134969325153374, 0.006134969325153374, 0.006134969325153374, 0.006134969325153374, 0.006134969325153374, 0.006134969325153374, 0.006134969325153374, 0.006134969325153374])"
      ]
     },
     "execution_count": 5,
     "metadata": {},
     "output_type": "execute_result"
    }
   ],
   "source": [
    "trigrams = get_probability_trigrams(reviews)\n",
    "trigrams[('i', 'this')].values()"
   ]
  },
  {
   "cell_type": "code",
   "execution_count": 6,
   "metadata": {
    "ExecuteTime": {
     "end_time": "2019-03-09T10:12:38.047482Z",
     "start_time": "2019-03-09T10:12:38.042995Z"
    }
   },
   "outputs": [],
   "source": [
    "def pick_word(word_probs):\n",
    "    return np.random.choice(list(word_probs.keys()), 1, p=list(word_probs.values()))[0]"
   ]
  },
  {
   "cell_type": "code",
   "execution_count": 7,
   "metadata": {
    "ExecuteTime": {
     "end_time": "2019-03-09T10:12:38.058422Z",
     "start_time": "2019-03-09T10:12:38.050905Z"
    }
   },
   "outputs": [
    {
     "data": {
      "text/plain": [
       "(0.9999999999999993, 'purchased')"
      ]
     },
     "execution_count": 7,
     "metadata": {},
     "output_type": "execute_result"
    }
   ],
   "source": [
    "sum(trigrams[('i', 'this')].values()), pick_word(trigrams[('i', 'this')])"
   ]
  },
  {
   "cell_type": "markdown",
   "metadata": {},
   "source": [
    "We can now 'spin' an article. Words will be replaced randomly with recpect to the probability of their occurence given the previous and the next word."
   ]
  },
  {
   "cell_type": "code",
   "execution_count": 8,
   "metadata": {
    "ExecuteTime": {
     "end_time": "2019-03-09T10:12:38.071124Z",
     "start_time": "2019-03-09T10:12:38.063690Z"
    }
   },
   "outputs": [],
   "source": [
    "def spin(article):\n",
    "    article = article.lower()\n",
    "    words = article.split(' ')\n",
    "    for i in range(1, len(words) - 2):\n",
    "        if np.random.random() < 0.5:\n",
    "            p = words[i-1]\n",
    "            n = words[i+1]\n",
    "            \n",
    "            if (p, n) in trigrams:\n",
    "                words[i] = pick_word(trigrams[(p, n)])\n",
    "    \n",
    "    return ' '.join(words)"
   ]
  },
  {
   "cell_type": "code",
   "execution_count": 9,
   "metadata": {
    "ExecuteTime": {
     "end_time": "2019-03-09T10:12:38.096846Z",
     "start_time": "2019-03-09T10:12:38.073670Z"
    }
   },
   "outputs": [
    {
     "data": {
      "text/plain": [
       "(\"i really likethe design on this protector and bought 3 it allows you to plug multiple transformers in and still have room for regular plugs. slipping plus in is a firm push but not that tough.  i also like the fact that it gives you a warning light if you get up around 12 amps.. cool but you have to keep in mind a 15 amp circuit shoulldn't have 12 amps to one plug the cord restraint system slides out to hold all the cords then wedges backin to hold them in place. a bit hard to set up and a zip tie could achieve the same thing altough this is way easier if you change things\",\n",
       " \"i really likethe design on this protector and bought 3 it before you to plug multiple transformers in and still have complained. for regular plugs. slipping plus in is a firm push but agree that speed!  i also like the fact that it gives you a warning light if you get up around 12 amps.. cool but you have to keep in mind a 15 amp circuit shoulldn't have 12 amps to one plug the cord restraint system slides out to hold down the cords then wedges backin to connect them in place. a little hard to turn up into a zip tie could achieve the same thing altough this is way easier if you change things\")"
      ]
     },
     "execution_count": 9,
     "metadata": {},
     "output_type": "execute_result"
    }
   ],
   "source": [
    "article = ' '.join(np.random.choice(reviews))\n",
    "new_review = spin(article)\n",
    "\n",
    "article, new_review"
   ]
  }
 ],
 "metadata": {
  "kernelspec": {
   "display_name": "Python [conda env:development36]",
   "language": "python",
   "name": "conda-env-development36-py"
  },
  "language_info": {
   "codemirror_mode": {
    "name": "ipython",
    "version": 3
   },
   "file_extension": ".py",
   "mimetype": "text/x-python",
   "name": "python",
   "nbconvert_exporter": "python",
   "pygments_lexer": "ipython3",
   "version": "3.6.7"
  },
  "varInspector": {
   "cols": {
    "lenName": 16,
    "lenType": 16,
    "lenVar": 40
   },
   "kernels_config": {
    "python": {
     "delete_cmd_postfix": "",
     "delete_cmd_prefix": "del ",
     "library": "var_list.py",
     "varRefreshCmd": "print(var_dic_list())"
    },
    "r": {
     "delete_cmd_postfix": ") ",
     "delete_cmd_prefix": "rm(",
     "library": "var_list.r",
     "varRefreshCmd": "cat(var_dic_list()) "
    }
   },
   "types_to_exclude": [
    "module",
    "function",
    "builtin_function_or_method",
    "instance",
    "_Feature"
   ],
   "window_display": false
  }
 },
 "nbformat": 4,
 "nbformat_minor": 2
}
