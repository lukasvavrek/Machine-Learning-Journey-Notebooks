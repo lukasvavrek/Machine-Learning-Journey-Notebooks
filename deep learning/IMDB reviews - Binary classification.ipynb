{
 "cells": [
  {
   "cell_type": "markdown",
   "metadata": {},
   "source": [
    "# IMDB Movie reviews positivity classification"
   ]
  },
  {
   "cell_type": "markdown",
   "metadata": {},
   "source": [
    "In this notebook, we are going to experiment with a build-in Keras' IMDB dataset. As a name suggests, it contains movie reviews that are manually tagged as positive or negative.\n",
    "\n",
    "Goal of this notebook is to experiment and build intuition when working with data and a neural network."
   ]
  },
  {
   "cell_type": "code",
   "execution_count": 1,
   "metadata": {
    "ExecuteTime": {
     "end_time": "2019-03-03T21:03:33.410120Z",
     "start_time": "2019-03-03T21:03:29.095508Z"
    }
   },
   "outputs": [],
   "source": [
    "from tensorflow.keras.datasets import imdb"
   ]
  },
  {
   "cell_type": "markdown",
   "metadata": {},
   "source": [
    "First of all, let's import the data. As we can see, there are 25000 training and another 25000 test items. By setting up `num_words` to 10000, we are limiting our features dimensionality."
   ]
  },
  {
   "cell_type": "code",
   "execution_count": 2,
   "metadata": {
    "ExecuteTime": {
     "end_time": "2019-03-03T21:03:38.624164Z",
     "start_time": "2019-03-03T21:03:33.413581Z"
    }
   },
   "outputs": [
    {
     "name": "stdout",
     "output_type": "stream",
     "text": [
      "Training data shape: (25000,)\n",
      "Training labels shape: (25000,)\n",
      "\n",
      "Test data shape: (25000,)\n",
      "Max: 9999 Min: 1 word index in data\n"
     ]
    }
   ],
   "source": [
    "(train_data, train_labels), (test_data, test_labels) = imdb.load_data(num_words=10000)\n",
    "\n",
    "print('Training data shape: {}\\nTraining labels shape: {}\\n'.format(train_data.shape, train_labels.shape))\n",
    "print('Test data shape: {}'.format(test_data.shape))\n",
    "\n",
    "print('Max: {} Min: {} word index in data'.format(max([max(sequence) for sequence in train_data]), min([min(sequence) for sequence in train_data])))"
   ]
  },
  {
   "cell_type": "markdown",
   "metadata": {},
   "source": [
    "Here is a preview of what limited dimensionality did to our sentences and how to reconstruct it back from the numbers."
   ]
  },
  {
   "cell_type": "code",
   "execution_count": 3,
   "metadata": {
    "ExecuteTime": {
     "end_time": "2019-03-03T21:03:38.775732Z",
     "start_time": "2019-03-03T21:03:38.627273Z"
    }
   },
   "outputs": [
    {
     "data": {
      "text/plain": [
       "\"? this film was just brilliant casting location scenery story direction everyone's really suited the part they played and you could just imagine being there robert ? is an amazing actor and now the same being director ? father came from the same scottish island as myself so i loved the fact there was a real connection with this film the witty remarks throughout the film were great it was just brilliant so much that i bought the film as soon as it was released for ? and would recommend it to everyone to watch and the fly fishing was amazing really cried at the end it was so sad and you know what they say if you cry at a film it must have been good and this definitely was also ? to the two little boy's that played the ? of norman and paul they were just brilliant children are often left out of the ? list i think because the stars that play them all grown up are such a big profile for the whole film but these children are amazing and should be praised for what they have done don't you think the whole story was so lovely because it was true and was someone's life after all that was shared with us all\""
      ]
     },
     "execution_count": 3,
     "metadata": {},
     "output_type": "execute_result"
    }
   ],
   "source": [
    "def preview_decoded_review(i):\n",
    "    word_index = imdb.get_word_index()\n",
    "    reverse_word_index = dict([(value, key) for (key, value) in word_index.items()])\n",
    "    decoded_review = ' '.join([reverse_word_index.get(i - 3, '?') for i in train_data[i]])\n",
    "    return decoded_review\n",
    "preview_decoded_review(0)"
   ]
  },
  {
   "cell_type": "code",
   "execution_count": 4,
   "metadata": {
    "ExecuteTime": {
     "end_time": "2019-03-03T21:03:38.783375Z",
     "start_time": "2019-03-03T21:03:38.778127Z"
    }
   },
   "outputs": [],
   "source": [
    "import numpy as np"
   ]
  },
  {
   "cell_type": "markdown",
   "metadata": {},
   "source": [
    "Very simple preprocessing into the bag of words like matrix."
   ]
  },
  {
   "cell_type": "code",
   "execution_count": 5,
   "metadata": {
    "ExecuteTime": {
     "end_time": "2019-03-03T21:03:38.793366Z",
     "start_time": "2019-03-03T21:03:38.787437Z"
    }
   },
   "outputs": [],
   "source": [
    "def vectorize_sequences(sequences, dimension=10000):\n",
    "    results = np.zeros((len(sequences), dimension))\n",
    "    for i, sequence in enumerate(sequences):\n",
    "        results[i, sequence] = 1.\n",
    "    return results"
   ]
  },
  {
   "cell_type": "code",
   "execution_count": 6,
   "metadata": {
    "ExecuteTime": {
     "end_time": "2019-03-03T21:03:42.311909Z",
     "start_time": "2019-03-03T21:03:38.795984Z"
    }
   },
   "outputs": [],
   "source": [
    "X_train = vectorize_sequences(train_data)\n",
    "X_test = vectorize_sequences(test_data)\n",
    "y_train = np.asarray(train_labels).astype('float32')\n",
    "y_test = np.asarray(test_labels).astype('float32')"
   ]
  },
  {
   "cell_type": "markdown",
   "metadata": {},
   "source": [
    "We'll split our data into 3 groups. Training, validation and testing."
   ]
  },
  {
   "cell_type": "code",
   "execution_count": 7,
   "metadata": {
    "ExecuteTime": {
     "end_time": "2019-03-03T21:03:42.322444Z",
     "start_time": "2019-03-03T21:03:42.317348Z"
    }
   },
   "outputs": [],
   "source": [
    "X_val = X_train[:10000]\n",
    "partial_X_train = X_train[10000:]\n",
    "y_val = y_train[:10000]\n",
    "partial_y_train = y_train[10000:]"
   ]
  },
  {
   "cell_type": "code",
   "execution_count": 8,
   "metadata": {
    "ExecuteTime": {
     "end_time": "2019-03-03T21:03:42.337539Z",
     "start_time": "2019-03-03T21:03:42.331710Z"
    }
   },
   "outputs": [],
   "source": [
    "from tensorflow.keras import models\n",
    "from tensorflow.keras import layers"
   ]
  },
  {
   "cell_type": "markdown",
   "metadata": {},
   "source": [
    "Finally we are able to build our model. We are using 3 layers of fully-connected dense layers with 16 nodes and relu activation function for the first two layers. Last layer has only 1 node with sigmoid activation function, which represents binary classification output with a probability output.\n",
    "Since we are doing binary classification, we chose a binary crossentropy as our loss function."
   ]
  },
  {
   "cell_type": "code",
   "execution_count": 9,
   "metadata": {
    "ExecuteTime": {
     "end_time": "2019-03-03T21:03:42.471345Z",
     "start_time": "2019-03-03T21:03:42.343650Z"
    }
   },
   "outputs": [],
   "source": [
    "model = models.Sequential()\n",
    "model.add(layers.Dense(16, activation='relu', input_shape=(10000,)))\n",
    "model.add(layers.Dense(16, activation='relu'))\n",
    "model.add(layers.Dense(1, activation='sigmoid'))\n",
    "model.compile(optimizer='rmsprop',\n",
    "              loss='binary_crossentropy',\n",
    "              metrics=['accuracy'])"
   ]
  },
  {
   "cell_type": "code",
   "execution_count": 10,
   "metadata": {
    "ExecuteTime": {
     "end_time": "2019-03-03T21:04:13.020462Z",
     "start_time": "2019-03-03T21:03:42.473670Z"
    },
    "scrolled": true
   },
   "outputs": [
    {
     "name": "stdout",
     "output_type": "stream",
     "text": [
      "Train on 15000 samples, validate on 10000 samples\n",
      "Epoch 1/20\n",
      "15000/15000 [==============================] - 4s 260us/step - loss: 0.5139 - acc: 0.7983 - val_loss: 0.3963 - val_acc: 0.8661\n",
      "Epoch 2/20\n",
      "15000/15000 [==============================] - 2s 106us/step - loss: 0.3123 - acc: 0.8991 - val_loss: 0.3089 - val_acc: 0.8872\n",
      "Epoch 3/20\n",
      "15000/15000 [==============================] - 1s 100us/step - loss: 0.2278 - acc: 0.9261 - val_loss: 0.2792 - val_acc: 0.8913\n",
      "Epoch 4/20\n",
      "15000/15000 [==============================] - 1s 91us/step - loss: 0.1810 - acc: 0.9408 - val_loss: 0.2718 - val_acc: 0.8913\n",
      "Epoch 5/20\n",
      "15000/15000 [==============================] - 1s 91us/step - loss: 0.1462 - acc: 0.9527 - val_loss: 0.2755 - val_acc: 0.8895\n",
      "Epoch 6/20\n",
      "15000/15000 [==============================] - 1s 92us/step - loss: 0.1228 - acc: 0.9619 - val_loss: 0.2915 - val_acc: 0.8869\n",
      "Epoch 7/20\n",
      "15000/15000 [==============================] - 1s 90us/step - loss: 0.1005 - acc: 0.9713 - val_loss: 0.3063 - val_acc: 0.8839\n",
      "Epoch 8/20\n",
      "15000/15000 [==============================] - 1s 91us/step - loss: 0.0840 - acc: 0.9759 - val_loss: 0.3265 - val_acc: 0.8832\n",
      "Epoch 9/20\n",
      "15000/15000 [==============================] - 1s 91us/step - loss: 0.0696 - acc: 0.9813 - val_loss: 0.3805 - val_acc: 0.8704\n",
      "Epoch 10/20\n",
      "15000/15000 [==============================] - 1s 91us/step - loss: 0.0577 - acc: 0.9853 - val_loss: 0.3931 - val_acc: 0.8733\n",
      "Epoch 11/20\n",
      "15000/15000 [==============================] - 1s 92us/step - loss: 0.0455 - acc: 0.9894 - val_loss: 0.4107 - val_acc: 0.8756\n",
      "Epoch 12/20\n",
      "15000/15000 [==============================] - 1s 91us/step - loss: 0.0381 - acc: 0.9916 - val_loss: 0.4254 - val_acc: 0.8729\n",
      "Epoch 13/20\n",
      "15000/15000 [==============================] - 1s 91us/step - loss: 0.0306 - acc: 0.9935 - val_loss: 0.4510 - val_acc: 0.8727\n",
      "Epoch 14/20\n",
      "15000/15000 [==============================] - 1s 91us/step - loss: 0.0243 - acc: 0.9954 - val_loss: 0.4830 - val_acc: 0.8715\n",
      "Epoch 15/20\n",
      "15000/15000 [==============================] - 1s 93us/step - loss: 0.0180 - acc: 0.9975 - val_loss: 0.5538 - val_acc: 0.8679\n",
      "Epoch 16/20\n",
      "15000/15000 [==============================] - 1s 92us/step - loss: 0.0156 - acc: 0.9976 - val_loss: 0.5373 - val_acc: 0.8701\n",
      "Epoch 17/20\n",
      "15000/15000 [==============================] - 1s 91us/step - loss: 0.0087 - acc: 0.9995 - val_loss: 0.5973 - val_acc: 0.8671\n",
      "Epoch 18/20\n",
      "15000/15000 [==============================] - 1s 91us/step - loss: 0.0098 - acc: 0.9989 - val_loss: 0.6099 - val_acc: 0.8681\n",
      "Epoch 19/20\n",
      "15000/15000 [==============================] - 1s 91us/step - loss: 0.0061 - acc: 0.9997 - val_loss: 0.6934 - val_acc: 0.8561\n",
      "Epoch 20/20\n",
      "15000/15000 [==============================] - 1s 91us/step - loss: 0.0039 - acc: 0.9998 - val_loss: 0.6780 - val_acc: 0.8656\n"
     ]
    }
   ],
   "source": [
    "history = model.fit(partial_X_train,\n",
    "                    partial_y_train,\n",
    "                    epochs=20,\n",
    "                    batch_size=512,\n",
    "                    validation_data=(X_val, y_val))"
   ]
  },
  {
   "cell_type": "code",
   "execution_count": 11,
   "metadata": {
    "ExecuteTime": {
     "end_time": "2019-03-03T21:04:13.296521Z",
     "start_time": "2019-03-03T21:04:13.023153Z"
    }
   },
   "outputs": [],
   "source": [
    "import matplotlib.pyplot as plt"
   ]
  },
  {
   "cell_type": "markdown",
   "metadata": {},
   "source": [
    "As we can see, by training with 20 epochs, we are clearly overfitting our model. Around 3 epochs, are model is performing at it's maximum. Then, loss on validation data gets bigger and bigger."
   ]
  },
  {
   "cell_type": "code",
   "execution_count": 12,
   "metadata": {
    "ExecuteTime": {
     "end_time": "2019-03-03T21:04:13.527453Z",
     "start_time": "2019-03-03T21:04:13.298640Z"
    }
   },
   "outputs": [
    {
     "data": {
      "text/plain": [
       "<matplotlib.legend.Legend at 0x1275920b8>"
      ]
     },
     "execution_count": 12,
     "metadata": {},
     "output_type": "execute_result"
    },
    {
     "data": {
      "image/png": "[encoded data removed]",
      "text/plain": [
       "<Figure size 432x288 with 1 Axes>"
      ]
     },
     "metadata": {
      "needs_background": "light"
     },
     "output_type": "display_data"
    }
   ],
   "source": [
    "history_dict = history.history\n",
    "loss_values = history_dict['loss']\n",
    "val_loss_values = history_dict['val_loss']\n",
    "\n",
    "epochs = range(1, len(history_dict['acc']) + 1)\n",
    "\n",
    "plt.plot(epochs, loss_values, 'bo', label='Training loss')\n",
    "plt.plot(epochs, val_loss_values, 'b', label='Validation loss')\n",
    "plt.title('Training and validation loss')\n",
    "plt.xlabel('Epochs')\n",
    "plt.ylabel('Loss')\n",
    "plt.legend()"
   ]
  },
  {
   "cell_type": "code",
   "execution_count": 13,
   "metadata": {
    "ExecuteTime": {
     "end_time": "2019-03-03T21:04:13.753881Z",
     "start_time": "2019-03-03T21:04:13.530765Z"
    },
    "scrolled": true
   },
   "outputs": [
    {
     "data": {
      "text/plain": [
       "<matplotlib.legend.Legend at 0x12762b1d0>"
      ]
     },
     "execution_count": 13,
     "metadata": {},
     "output_type": "execute_result"
    },
    {
     "data": {
      "image/png": "[encoded data removed]",
      "text/plain": [
       "<Figure size 432x288 with 1 Axes>"
      ]
     },
     "metadata": {
      "needs_background": "light"
     },
     "output_type": "display_data"
    }
   ],
   "source": [
    "acc_values = history_dict['acc']\n",
    "val_acc_values = history_dict['val_acc']\n",
    "\n",
    "plt.plot(epochs, acc_values, 'bo', label='Training acc')\n",
    "plt.plot(epochs, val_acc_values, 'b', label='Validation acc')\n",
    "plt.title('Training and validation accuracy')\n",
    "plt.xlabel('Epochs')\n",
    "plt.ylabel('Accuracy')\n",
    "plt.legend()"
   ]
  },
  {
   "cell_type": "code",
   "execution_count": 14,
   "metadata": {
    "ExecuteTime": {
     "end_time": "2019-03-03T21:04:17.122272Z",
     "start_time": "2019-03-03T21:04:13.756964Z"
    }
   },
   "outputs": [
    {
     "data": {
      "text/plain": [
       "array([[7.8837080e-03],\n",
       "       [1.0000000e+00],\n",
       "       [9.9461454e-01],\n",
       "       ...,\n",
       "       [8.7798346e-04],\n",
       "       [7.8724967e-03],\n",
       "       [6.2826586e-01]], dtype=float32)"
      ]
     },
     "execution_count": 14,
     "metadata": {},
     "output_type": "execute_result"
    }
   ],
   "source": [
    "model.predict(X_test)"
   ]
  },
  {
   "cell_type": "markdown",
   "metadata": {},
   "source": [
    "To experiment with a network setup:\n",
    "* Try using one or three hidden layers, and see how doing so affects validation and test accuracy.\n",
    "* Try using layers with more hidden units or fewer hidden units: 32 units, 64 units, and so on.\n",
    "* Try using the mse loss function instead of binary_crossentropy.\n",
    "* Try using the tanh activation (an activation that was popular in the early days of neural networks) instead of relu."
   ]
  }
 ],
 "metadata": {
  "kernelspec": {
   "display_name": "Python [conda env:development36]",
   "language": "python",
   "name": "conda-env-development36-py"
  },
  "language_info": {
   "codemirror_mode": {
    "name": "ipython",
    "version": 3
   },
   "file_extension": ".py",
   "mimetype": "text/x-python",
   "name": "python",
   "nbconvert_exporter": "python",
   "pygments_lexer": "ipython3",
   "version": "3.6.7"
  },
  "varInspector": {
   "cols": {
    "lenName": 16,
    "lenType": 16,
    "lenVar": 40
   },
   "kernels_config": {
    "python": {
     "delete_cmd_postfix": "",
     "delete_cmd_prefix": "del ",
     "library": "var_list.py",
     "varRefreshCmd": "print(var_dic_list())"
    },
    "r": {
     "delete_cmd_postfix": ") ",
     "delete_cmd_prefix": "rm(",
     "library": "var_list.r",
     "varRefreshCmd": "cat(var_dic_list()) "
    }
   },
   "types_to_exclude": [
    "module",
    "function",
    "builtin_function_or_method",
    "instance",
    "_Feature"
   ],
   "window_display": false
  }
 },
 "nbformat": 4,
 "nbformat_minor": 2
}
